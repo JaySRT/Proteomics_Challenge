{
 "cells": [
  {
   "cell_type": "code",
   "execution_count": 113,
   "metadata": {
    "id": "O7bYVEhXeEAq"
   },
   "outputs": [],
   "source": [
    "#### Import libraries and dependencies #########\n",
    "import sys\n",
    "import pandas as pd\n",
    "import seaborn as sns\n",
    "sns.set(style=\"darkgrid\", font_scale=1.5)\n",
    "from itertools import groupby"
   ]
  },
  {
   "cell_type": "code",
   "execution_count": 114,
   "metadata": {
    "colab": {
     "base_uri": "https://localhost:8080/"
    },
    "id": "s6NkAKZneOMj",
    "outputId": "d5019a52-9a7e-4f5d-eb67-2e1c3a2179e0"
   },
   "outputs": [
    {
     "name": "stdout",
     "output_type": "stream",
     "text": [
      "/content/drive/MyDrive/Data Developer\n"
     ]
    }
   ],
   "source": [
    "cd '/content/drive/MyDrive/Data Developer'"
   ]
  },
  {
   "cell_type": "code",
   "execution_count": 115,
   "metadata": {
    "colab": {
     "base_uri": "https://localhost:8080/"
    },
    "id": "e-vHHMc8eOTm",
    "outputId": "fd1d35c7-2666-46a7-bade-91bb37e4999a"
   },
   "outputs": [
    {
     "name": "stdout",
     "output_type": "stream",
     "text": [
      "Cedar_Exercise_2.ipynb       input.tsv       proteins.fasta.fai\n",
      "Cedar-Sinai-Exercise1.ipynb  newfileout      sc.py\n",
      "ExampleData.txt              proteins.fasta\n"
     ]
    }
   ],
   "source": [
    "ls"
   ]
  },
  {
   "cell_type": "code",
   "execution_count": 116,
   "metadata": {
    "id": "A-v3mY9xeOW-"
   },
   "outputs": [],
   "source": [
    "data = pd.read_csv('ExampleData.txt', sep='\\t')"
   ]
  },
  {
   "cell_type": "code",
   "execution_count": 117,
   "metadata": {
    "colab": {
     "base_uri": "https://localhost:8080/"
    },
    "id": "NPS-XtwBeOaP",
    "outputId": "818ce150-a429-4329-ce62-056c1739cebe"
   },
   "outputs": [
    {
     "name": "stdout",
     "output_type": "stream",
     "text": [
      "<class 'pandas.core.frame.DataFrame'>\n",
      "RangeIndex: 7702 entries, 0 to 7701\n",
      "Data columns (total 7 columns):\n",
      " #   Column       Non-Null Count  Dtype  \n",
      "---  ------       --------------  -----  \n",
      " 0   protein_id   7702 non-null   object \n",
      " 1   control_1    2814 non-null   float64\n",
      " 2   control_2    2874 non-null   float64\n",
      " 3   control_3    2615 non-null   float64\n",
      " 4   treatment_1  2963 non-null   float64\n",
      " 5   treatment_2  2800 non-null   float64\n",
      " 6   treatment_3  2628 non-null   float64\n",
      "dtypes: float64(6), object(1)\n",
      "memory usage: 421.3+ KB\n"
     ]
    }
   ],
   "source": [
    "data.info()"
   ]
  },
  {
   "cell_type": "code",
   "execution_count": 118,
   "metadata": {
    "colab": {
     "base_uri": "https://localhost:8080/"
    },
    "id": "GdGnMF3PeOep",
    "outputId": "a1e9f8e7-f6a7-4236-f900-2b94400fd10b"
   },
   "outputs": [
    {
     "data": {
      "text/plain": [
       "protein_id        0\n",
       "control_1      4888\n",
       "control_2      4828\n",
       "control_3      5087\n",
       "treatment_1    4739\n",
       "treatment_2    4902\n",
       "treatment_3    5074\n",
       "dtype: int64"
      ]
     },
     "execution_count": 118,
     "metadata": {},
     "output_type": "execute_result"
    }
   ],
   "source": [
    "data.isnull().sum()"
   ]
  },
  {
   "cell_type": "code",
   "execution_count": 119,
   "metadata": {
    "id": "A9k33O2YeOhE"
   },
   "outputs": [],
   "source": [
    "## Drop all null values\n",
    "data1 = data.dropna()"
   ]
  },
  {
   "cell_type": "code",
   "execution_count": 120,
   "metadata": {
    "colab": {
     "base_uri": "https://localhost:8080/"
    },
    "id": "ageDBPdreOk4",
    "outputId": "b9608a3b-f2af-4944-fbf4-2e8ac71ca3eb"
   },
   "outputs": [
    {
     "data": {
      "text/plain": [
       "(1145, 7)"
      ]
     },
     "execution_count": 120,
     "metadata": {},
     "output_type": "execute_result"
    }
   ],
   "source": [
    "data1.shape"
   ]
  },
  {
   "cell_type": "code",
   "execution_count": 121,
   "metadata": {
    "id": "f5jBptdieOlq"
   },
   "outputs": [],
   "source": [
    "data1 = data1.reset_index(drop=True)"
   ]
  },
  {
   "cell_type": "code",
   "execution_count": 122,
   "metadata": {
    "colab": {
     "base_uri": "https://localhost:8080/"
    },
    "id": "7GelxaiHkFsg",
    "outputId": "56b7a766-28ba-4caa-9fb0-cd04a35d8f6e"
   },
   "outputs": [
    {
     "name": "stdout",
     "output_type": "stream",
     "text": [
      "<class 'pandas.core.frame.DataFrame'>\n",
      "RangeIndex: 1145 entries, 0 to 1144\n",
      "Data columns (total 7 columns):\n",
      " #   Column       Non-Null Count  Dtype  \n",
      "---  ------       --------------  -----  \n",
      " 0   protein_id   1145 non-null   object \n",
      " 1   control_1    1145 non-null   float64\n",
      " 2   control_2    1145 non-null   float64\n",
      " 3   control_3    1145 non-null   float64\n",
      " 4   treatment_1  1145 non-null   float64\n",
      " 5   treatment_2  1145 non-null   float64\n",
      " 6   treatment_3  1145 non-null   float64\n",
      "dtypes: float64(6), object(1)\n",
      "memory usage: 62.7+ KB\n"
     ]
    }
   ],
   "source": [
    "data1.info()"
   ]
  },
  {
   "cell_type": "code",
   "execution_count": 123,
   "metadata": {
    "colab": {
     "base_uri": "https://localhost:8080/",
     "height": 297
    },
    "id": "Z_OZm_BLkF5q",
    "outputId": "bebd65aa-d709-46d1-977a-53e319698770"
   },
   "outputs": [
    {
     "data": {
      "text/html": [
       "<div>\n",
       "<style scoped>\n",
       "    .dataframe tbody tr th:only-of-type {\n",
       "        vertical-align: middle;\n",
       "    }\n",
       "\n",
       "    .dataframe tbody tr th {\n",
       "        vertical-align: top;\n",
       "    }\n",
       "\n",
       "    .dataframe thead th {\n",
       "        text-align: right;\n",
       "    }\n",
       "</style>\n",
       "<table border=\"1\" class=\"dataframe\">\n",
       "  <thead>\n",
       "    <tr style=\"text-align: right;\">\n",
       "      <th></th>\n",
       "      <th>control_1</th>\n",
       "      <th>control_2</th>\n",
       "      <th>control_3</th>\n",
       "      <th>treatment_1</th>\n",
       "      <th>treatment_2</th>\n",
       "      <th>treatment_3</th>\n",
       "    </tr>\n",
       "  </thead>\n",
       "  <tbody>\n",
       "    <tr>\n",
       "      <th>count</th>\n",
       "      <td>1145.000000</td>\n",
       "      <td>1145.000000</td>\n",
       "      <td>1145.000000</td>\n",
       "      <td>1145.000000</td>\n",
       "      <td>1145.000000</td>\n",
       "      <td>1145.000000</td>\n",
       "    </tr>\n",
       "    <tr>\n",
       "      <th>mean</th>\n",
       "      <td>1.455744</td>\n",
       "      <td>1.369763</td>\n",
       "      <td>1.426487</td>\n",
       "      <td>1.398963</td>\n",
       "      <td>1.358221</td>\n",
       "      <td>1.032734</td>\n",
       "    </tr>\n",
       "    <tr>\n",
       "      <th>std</th>\n",
       "      <td>2.534017</td>\n",
       "      <td>2.375663</td>\n",
       "      <td>2.384100</td>\n",
       "      <td>2.588912</td>\n",
       "      <td>2.309086</td>\n",
       "      <td>1.784303</td>\n",
       "    </tr>\n",
       "    <tr>\n",
       "      <th>min</th>\n",
       "      <td>0.005800</td>\n",
       "      <td>0.005600</td>\n",
       "      <td>0.001100</td>\n",
       "      <td>0.005000</td>\n",
       "      <td>0.004200</td>\n",
       "      <td>0.003400</td>\n",
       "    </tr>\n",
       "    <tr>\n",
       "      <th>25%</th>\n",
       "      <td>0.327600</td>\n",
       "      <td>0.310100</td>\n",
       "      <td>0.329900</td>\n",
       "      <td>0.318000</td>\n",
       "      <td>0.310000</td>\n",
       "      <td>0.232100</td>\n",
       "    </tr>\n",
       "    <tr>\n",
       "      <th>50%</th>\n",
       "      <td>0.732800</td>\n",
       "      <td>0.693600</td>\n",
       "      <td>0.724700</td>\n",
       "      <td>0.695900</td>\n",
       "      <td>0.684400</td>\n",
       "      <td>0.505900</td>\n",
       "    </tr>\n",
       "    <tr>\n",
       "      <th>75%</th>\n",
       "      <td>1.530300</td>\n",
       "      <td>1.456700</td>\n",
       "      <td>1.564000</td>\n",
       "      <td>1.399800</td>\n",
       "      <td>1.391200</td>\n",
       "      <td>1.061700</td>\n",
       "    </tr>\n",
       "    <tr>\n",
       "      <th>max</th>\n",
       "      <td>31.943800</td>\n",
       "      <td>31.697400</td>\n",
       "      <td>31.319700</td>\n",
       "      <td>41.685600</td>\n",
       "      <td>28.234200</td>\n",
       "      <td>21.428200</td>\n",
       "    </tr>\n",
       "  </tbody>\n",
       "</table>\n",
       "</div>"
      ],
      "text/plain": [
       "         control_1    control_2  ...  treatment_2  treatment_3\n",
       "count  1145.000000  1145.000000  ...  1145.000000  1145.000000\n",
       "mean      1.455744     1.369763  ...     1.358221     1.032734\n",
       "std       2.534017     2.375663  ...     2.309086     1.784303\n",
       "min       0.005800     0.005600  ...     0.004200     0.003400\n",
       "25%       0.327600     0.310100  ...     0.310000     0.232100\n",
       "50%       0.732800     0.693600  ...     0.684400     0.505900\n",
       "75%       1.530300     1.456700  ...     1.391200     1.061700\n",
       "max      31.943800    31.697400  ...    28.234200    21.428200\n",
       "\n",
       "[8 rows x 6 columns]"
      ]
     },
     "execution_count": 123,
     "metadata": {},
     "output_type": "execute_result"
    }
   ],
   "source": [
    "## The Distribution and Quantiles of each numeric column\n",
    "data1.describe()"
   ]
  },
  {
   "cell_type": "code",
   "execution_count": 124,
   "metadata": {
    "colab": {
     "base_uri": "https://localhost:8080/",
     "height": 142
    },
    "id": "xne0rEzdkF8o",
    "outputId": "e00d2a10-16dc-480b-98c1-cccca6c351be"
   },
   "outputs": [
    {
     "data": {
      "text/html": [
       "<div>\n",
       "<style scoped>\n",
       "    .dataframe tbody tr th:only-of-type {\n",
       "        vertical-align: middle;\n",
       "    }\n",
       "\n",
       "    .dataframe tbody tr th {\n",
       "        vertical-align: top;\n",
       "    }\n",
       "\n",
       "    .dataframe thead th {\n",
       "        text-align: right;\n",
       "    }\n",
       "</style>\n",
       "<table border=\"1\" class=\"dataframe\">\n",
       "  <thead>\n",
       "    <tr style=\"text-align: right;\">\n",
       "      <th></th>\n",
       "      <th>protein_id</th>\n",
       "      <th>control_1</th>\n",
       "      <th>control_2</th>\n",
       "      <th>control_3</th>\n",
       "      <th>treatment_1</th>\n",
       "      <th>treatment_2</th>\n",
       "      <th>treatment_3</th>\n",
       "    </tr>\n",
       "  </thead>\n",
       "  <tbody>\n",
       "    <tr>\n",
       "      <th>0</th>\n",
       "      <td>P38606</td>\n",
       "      <td>0.8114</td>\n",
       "      <td>0.8575</td>\n",
       "      <td>1.0381</td>\n",
       "      <td>0.6448</td>\n",
       "      <td>0.7190</td>\n",
       "      <td>0.4805</td>\n",
       "    </tr>\n",
       "    <tr>\n",
       "      <th>1</th>\n",
       "      <td>P18077</td>\n",
       "      <td>0.3672</td>\n",
       "      <td>0.3853</td>\n",
       "      <td>0.4091</td>\n",
       "      <td>0.4109</td>\n",
       "      <td>0.4634</td>\n",
       "      <td>0.3561</td>\n",
       "    </tr>\n",
       "    <tr>\n",
       "      <th>2</th>\n",
       "      <td>P35580</td>\n",
       "      <td>2.9815</td>\n",
       "      <td>4.6176</td>\n",
       "      <td>2.8709</td>\n",
       "      <td>7.1670</td>\n",
       "      <td>2.0052</td>\n",
       "      <td>0.8995</td>\n",
       "    </tr>\n",
       "  </tbody>\n",
       "</table>\n",
       "</div>"
      ],
      "text/plain": [
       "  protein_id  control_1  control_2  ...  treatment_1  treatment_2  treatment_3\n",
       "0     P38606     0.8114     0.8575  ...       0.6448       0.7190       0.4805\n",
       "1     P18077     0.3672     0.3853  ...       0.4109       0.4634       0.3561\n",
       "2     P35580     2.9815     4.6176  ...       7.1670       2.0052       0.8995\n",
       "\n",
       "[3 rows x 7 columns]"
      ]
     },
     "execution_count": 124,
     "metadata": {},
     "output_type": "execute_result"
    }
   ],
   "source": [
    "data1.head(3)"
   ]
  },
  {
   "cell_type": "code",
   "execution_count": 125,
   "metadata": {
    "colab": {
     "base_uri": "https://localhost:8080/",
     "height": 296
    },
    "id": "0eN3C1lqzYDD",
    "outputId": "e3b19a56-b524-4797-c7c4-8d3ae50c4fb6"
   },
   "outputs": [
    {
     "data": {
      "image/png": "[encoded data removed]",
      "text/plain": [
       "<Figure size 432x288 with 4 Axes>"
      ]
     },
     "metadata": {},
     "output_type": "display_data"
    }
   ],
   "source": [
    "## Plot control measure against the corresponding treatment \n",
    "\n",
    "# importing the required module\n",
    "import matplotlib.pyplot as plt\n",
    "\n",
    "# Initialise the subplot function using number of rows and columns\n",
    "figure, axis = plt.subplots(2, 2)\n",
    "  \n",
    "# For Control and treatment 1\n",
    "axis[0, 0].plot(data1.control_1, data1.treatment_1)\n",
    "axis[0, 0].set_title(\"Control_1 graph!\")\n",
    "  \n",
    "# For Control and treatment 2\n",
    "axis[0, 1].plot(data1.control_2, data1.treatment_2)\n",
    "axis[0, 1].set_title(\"Control_2 graph!\")\n",
    "  \n",
    "# For Control and treatment 3\n",
    "axis[1, 0].plot(data1.control_3, data1.treatment_3)\n",
    "axis[1, 0].set_title(\"Control_3 graph!\")\n",
    "  \n",
    "# Combine all the operations and display\n",
    "plt.show()"
   ]
  },
  {
   "cell_type": "code",
   "execution_count": 126,
   "metadata": {
    "colab": {
     "base_uri": "https://localhost:8080/",
     "height": 704
    },
    "id": "VZA_eDTvzwTA",
    "outputId": "5af5aedb-0c55-45f7-f601-0eca0c8c8daf"
   },
   "outputs": [
    {
     "data": {
      "text/plain": [
       "<seaborn.axisgrid.FacetGrid at 0x7fd1d4911e90>"
      ]
     },
     "execution_count": 126,
     "metadata": {},
     "output_type": "execute_result"
    },
    {
     "data": {
      "image/png": "[encoded data removed]",
      "text/plain": [
       "<Figure size 504x360 with 1 Axes>"
      ]
     },
     "metadata": {},
     "output_type": "display_data"
    },
    {
     "data": {
      "image/png": "[encoded data removed]",
      "text/plain": [
       "<Figure size 504x360 with 1 Axes>"
      ]
     },
     "metadata": {},
     "output_type": "display_data"
    }
   ],
   "source": [
    "## Histogram on a log scale to know the data distribution\n",
    "\n",
    "sns.displot(\n",
    "  data=data1,\n",
    "  x=\"control_1\",\n",
    "  kind=\"hist\",\n",
    "  aspect=1.4,\n",
    "  log_scale=10\n",
    ")\n",
    "sns.displot(\n",
    "  data=data1,\n",
    "  x=\"treatment_1\",\n",
    "  kind=\"hist\",\n",
    "  aspect=1.4,\n",
    "  log_scale=10\n",
    ")"
   ]
  },
  {
   "cell_type": "markdown",
   "metadata": {
    "id": "RAxvY6_FW75z"
   },
   "source": [
    "Above plots show us the distribution of effect of control and treatment on each Protein. \n",
    "From this we can see that the data is close to a normal distribution."
   ]
  },
  {
   "cell_type": "code",
   "execution_count": 127,
   "metadata": {
    "id": "kTrQRK7xFLnn"
   },
   "outputs": [],
   "source": [
    "#Getting new columns with sample difference to know the effect\n",
    "new_dict = {'protein_id': data1.protein_id , \n",
    "            'treat_minus_control1' : data1.treatment_1 - data1.control_1 ,\n",
    "            'treat_minus_control2': data1.treatment_2 - data1.control_2 , \n",
    "            'treat_minus_control3' : data1.treatment_3 - data1.control_3}\n",
    "\n",
    "new_df =  pd.DataFrame(new_dict)"
   ]
  },
  {
   "cell_type": "code",
   "execution_count": 128,
   "metadata": {
    "colab": {
     "base_uri": "https://localhost:8080/"
    },
    "id": "VkBfoLAHFLuF",
    "outputId": "2aebc263-4fa4-42ef-d7a8-697199ab32f6"
   },
   "outputs": [
    {
     "data": {
      "text/plain": [
       "treat_minus_control1    697\n",
       "treat_minus_control2    563\n",
       "treat_minus_control3    907\n",
       "dtype: int64"
      ]
     },
     "execution_count": 128,
     "metadata": {},
     "output_type": "execute_result"
    }
   ],
   "source": [
    "## Count negative values\n",
    "new_df1 = new_df[['treat_minus_control1', 'treat_minus_control2' , 'treat_minus_control3']]\n",
    "new_df1.lt(0).sum()"
   ]
  },
  {
   "cell_type": "code",
   "execution_count": 129,
   "metadata": {
    "colab": {
     "base_uri": "https://localhost:8080/",
     "height": 142
    },
    "id": "TciJ3OsnPTKa",
    "outputId": "d9b5220b-b0dc-4921-a039-f5d85b5c217a"
   },
   "outputs": [
    {
     "data": {
      "text/html": [
       "<div>\n",
       "<style scoped>\n",
       "    .dataframe tbody tr th:only-of-type {\n",
       "        vertical-align: middle;\n",
       "    }\n",
       "\n",
       "    .dataframe tbody tr th {\n",
       "        vertical-align: top;\n",
       "    }\n",
       "\n",
       "    .dataframe thead th {\n",
       "        text-align: right;\n",
       "    }\n",
       "</style>\n",
       "<table border=\"1\" class=\"dataframe\">\n",
       "  <thead>\n",
       "    <tr style=\"text-align: right;\">\n",
       "      <th></th>\n",
       "      <th>treat_minus_control1</th>\n",
       "      <th>treat_minus_control2</th>\n",
       "      <th>treat_minus_control3</th>\n",
       "    </tr>\n",
       "  </thead>\n",
       "  <tbody>\n",
       "    <tr>\n",
       "      <th>0</th>\n",
       "      <td>-0.1666</td>\n",
       "      <td>-0.1385</td>\n",
       "      <td>-0.5576</td>\n",
       "    </tr>\n",
       "    <tr>\n",
       "      <th>1</th>\n",
       "      <td>0.0437</td>\n",
       "      <td>0.0781</td>\n",
       "      <td>-0.0530</td>\n",
       "    </tr>\n",
       "    <tr>\n",
       "      <th>2</th>\n",
       "      <td>4.1855</td>\n",
       "      <td>-2.6124</td>\n",
       "      <td>-1.9714</td>\n",
       "    </tr>\n",
       "  </tbody>\n",
       "</table>\n",
       "</div>"
      ],
      "text/plain": [
       "   treat_minus_control1  treat_minus_control2  treat_minus_control3\n",
       "0               -0.1666               -0.1385               -0.5576\n",
       "1                0.0437                0.0781               -0.0530\n",
       "2                4.1855               -2.6124               -1.9714"
      ]
     },
     "execution_count": 129,
     "metadata": {},
     "output_type": "execute_result"
    }
   ],
   "source": [
    "new_df1.head(3)"
   ]
  },
  {
   "cell_type": "code",
   "execution_count": 130,
   "metadata": {
    "colab": {
     "base_uri": "https://localhost:8080/"
    },
    "id": "CLX7KqEOM1Tz",
    "outputId": "631ec089-6ad6-4179-c591-fd22df10a9a3"
   },
   "outputs": [
    {
     "name": "stdout",
     "output_type": "stream",
     "text": [
      "446 581 237\n"
     ]
    }
   ],
   "source": [
    "## Number of positive differences mean that the Treatment was effective upto some extent\n",
    "a = len(new_df1.query('treat_minus_control1 > 0'))\n",
    "b = len(new_df1.query('treat_minus_control2 > 0'))\n",
    "c = len(new_df1.query('treat_minus_control3 > 0'))\n",
    "print(a, b, c)"
   ]
  },
  {
   "cell_type": "code",
   "execution_count": 131,
   "metadata": {
    "id": "Z5P3iy1694tm"
   },
   "outputs": [],
   "source": [
    "## Separating Protiens with Positive treat_minus_control differences\n",
    "all_positive = new_df[(new_df[['treat_minus_control1', 'treat_minus_control2' , 'treat_minus_control3']] > 0).all(1)]\n",
    "all_negative = new_df[(new_df[['treat_minus_control1', 'treat_minus_control2' , 'treat_minus_control3']] < 0).all(1)]"
   ]
  },
  {
   "cell_type": "code",
   "execution_count": 132,
   "metadata": {
    "id": "RAwKSKKTQxS5"
   },
   "outputs": [],
   "source": [
    "control_1_positive = new_df[(new_df[['treat_minus_control1']] > 0).all(1)]\n",
    "control_2_positive = new_df[(new_df[['treat_minus_control2']] > 0).all(1)]\n",
    "control_3_positive = new_df[(new_df[['treat_minus_control3']] > 0).all(1)]"
   ]
  },
  {
   "cell_type": "code",
   "execution_count": 133,
   "metadata": {
    "colab": {
     "base_uri": "https://localhost:8080/"
    },
    "id": "Toy20pz6RfF7",
    "outputId": "f8a749de-1c44-4dfb-b1c9-6f6e74b181c7"
   },
   "outputs": [
    {
     "name": "stdout",
     "output_type": "stream",
     "text": [
      "(446, 4)\n",
      "(581, 4)\n",
      "(237, 4)\n",
      "(86, 4)\n",
      "(315, 4)\n"
     ]
    }
   ],
   "source": [
    "print(control_1_positive.shape)\n",
    "print(control_2_positive.shape)\n",
    "print(control_3_positive.shape)\n",
    "print(all_positive.shape)\n",
    "print(all_negative.shape)"
   ]
  },
  {
   "cell_type": "markdown",
   "metadata": {
    "id": "ejSIttWXSdPk"
   },
   "source": [
    "### KEY FINDINGS\n",
    "\n",
    "- From the above attempt to analyze the Control and Treated samples, we can conclude that Treatment 2 has been effective over more number of samples, giving a positive result. \n",
    "\n",
    "- Individually, 446 treatments 1s are positive, 581 treatments 2s are positive and 237 treatments 3s are positive.\n",
    "\n",
    "- There are 86 Proteins that have a positive effect with all three treatments, while there are 315 Proteins which did not show positive effects with any of the three treatments.\n",
    "\n",
    "\n",
    "\n"
   ]
  },
  {
   "cell_type": "code",
   "execution_count": 133,
   "metadata": {
    "id": "EllvH1ElYFNW"
   },
   "outputs": [],
   "source": []
  }
 ],
 "metadata": {
  "colab": {
   "name": "Cedar_Exercise_2.ipynb",
   "provenance": []
  },
  "kernelspec": {
   "display_name": "Python 3",
   "language": "python",
   "name": "python3"
  },
  "language_info": {
   "codemirror_mode": {
    "name": "ipython",
    "version": 3
   },
   "file_extension": ".py",
   "mimetype": "text/x-python",
   "name": "python",
   "nbconvert_exporter": "python",
   "pygments_lexer": "ipython3",
   "version": "3.8.8"
  }
 },
 "nbformat": 4,
 "nbformat_minor": 1
}
